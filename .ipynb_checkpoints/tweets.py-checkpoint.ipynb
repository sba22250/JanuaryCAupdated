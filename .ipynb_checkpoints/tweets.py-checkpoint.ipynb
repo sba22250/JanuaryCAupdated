{
 "cells": [
  {
   "cell_type": "code",
   "execution_count": 1,
   "id": "464db711",
   "metadata": {},
   "outputs": [],
   "source": [
    "import tweepy\n",
    "from textblob import TextBlob\n",
    "from wordcloud import WordCloud\n",
    "import pandas as pd\n",
    "import numpy as np\n",
    "import re\n",
    "import matplotlib.pyplot as plt\n",
    "import snscrape.modules.twitter as sntwitter\n",
    "import pandas as pd\n",
    "import nltk\n",
    "from nltk.corpus import stopwords\n",
    "from textblob import Word, TextBlob\n",
    "import warnings\n",
    "warnings.filterwarnings('ignore') # We can suppress the warnings\n"
   ]
  },
  {
   "cell_type": "code",
   "execution_count": 2,
   "id": "ea4ed905",
   "metadata": {},
   "outputs": [],
   "source": [
    "consumerKey=\"Vl1yCS3v3tS7psJ52P1IlCY9q\"\n",
    "consumerSecret=\"EWglg7zet8TFqg1OQsRAqqdUwxXvVvSPgA3kGBEu6xAnbWMyPy\"\n",
    "accessToken=\"1342236145434943488-XLkJIBNzc7grJwQxWqOt3SKImMkKix\"\n",
    "accessTokenSecret=\"tZQKrjLx2iQvcz8LxhUp4jjjPR8Bmmo48A91y6WtJLJ2k\"\n"
   ]
  },
  {
   "cell_type": "code",
   "execution_count": 3,
   "id": "bc3ea5af",
   "metadata": {},
   "outputs": [],
   "source": [
    "#pip install snscrape"
   ]
  },
  {
   "cell_type": "code",
   "execution_count": 4,
   "id": "5a4c6436",
   "metadata": {},
   "outputs": [
    {
     "name": "stdout",
     "output_type": "stream",
     "text": [
      "                    Timestamp          User  \\\n",
      "0   2022-12-31 16:49:40+00:00   RawCowsMilk   \n",
      "1   2022-12-31 06:50:52+00:00     khargosht   \n",
      "2   2022-12-30 18:53:22+00:00  ClayTrader25   \n",
      "3   2022-12-24 15:29:40+00:00  ClayTrader25   \n",
      "4   2022-12-23 15:46:00+00:00   RawCowsMilk   \n",
      "..                        ...           ...   \n",
      "995 2018-01-14 03:48:50+00:00   Sighted_In_   \n",
      "996 2018-01-14 01:50:06+00:00   Raptorazor1   \n",
      "997 2018-01-14 01:12:27+00:00      flutefox   \n",
      "998 2018-01-13 02:45:13+00:00   Raptorazor1   \n",
      "999 2018-01-12 23:15:10+00:00   Raptorazor1   \n",
      "\n",
      "                                                 Tweet  \n",
      "0    Happy New Years Eve! We hope yours is as tasty...  \n",
      "1    خرگوشت یعنی خرگوش کا گوشت دستیاب ہے۔\\nRabbit M...  \n",
      "2    My mom nailed this gift 💯 #selfsufficient #pra...  \n",
      "3    From field to plate with some memories along t...  \n",
      "4    Merry Christmas to you all ❤️🎄🐷 #organicfarmin...  \n",
      "..                                                 ...  \n",
      "995  Is there a better view? #Hunt #Hunting #Huntin...  \n",
      "996  Our winter sale is still going on! Save now wi...  \n",
      "997  Rainy January day food for the soul #ilovetoco...  \n",
      "998  Our winter sale is still going on! Save now wi...  \n",
      "999  Our Nylon Mako is one of best at slicing those...  \n",
      "\n",
      "[1000 rows x 3 columns]\n"
     ]
    }
   ],
   "source": [
    "query =\"OrganicMeat\"\n",
    "tweets=[]\n",
    "limit= 1000\n",
    "for tweet in sntwitter.TwitterSearchScraper(query).get_items():\n",
    "    \n",
    "    #print(vars(tweet))\n",
    "    if len(tweets) == limit:\n",
    "        break\n",
    "    else:\n",
    "        tweets.append([tweet.date, tweet.user.username, tweet.content])\n",
    "tweets_df= pd.DataFrame(tweets,columns=['Timestamp','User','Tweet'])\n",
    "print(tweets_df)"
   ]
  },
  {
   "cell_type": "code",
   "execution_count": 5,
   "id": "cfe7c15e",
   "metadata": {},
   "outputs": [
    {
     "data": {
      "text/plain": [
       "(1000, 3)"
      ]
     },
     "execution_count": 5,
     "metadata": {},
     "output_type": "execute_result"
    }
   ],
   "source": [
    "tweets_df.shape"
   ]
  },
  {
   "cell_type": "code",
   "execution_count": 6,
   "id": "3bad6428",
   "metadata": {},
   "outputs": [
    {
     "data": {
      "text/html": [
       "<div>\n",
       "<style scoped>\n",
       "    .dataframe tbody tr th:only-of-type {\n",
       "        vertical-align: middle;\n",
       "    }\n",
       "\n",
       "    .dataframe tbody tr th {\n",
       "        vertical-align: top;\n",
       "    }\n",
       "\n",
       "    .dataframe thead th {\n",
       "        text-align: right;\n",
       "    }\n",
       "</style>\n",
       "<table border=\"1\" class=\"dataframe\">\n",
       "  <thead>\n",
       "    <tr style=\"text-align: right;\">\n",
       "      <th></th>\n",
       "      <th>Timestamp</th>\n",
       "      <th>User</th>\n",
       "      <th>Tweet</th>\n",
       "    </tr>\n",
       "  </thead>\n",
       "  <tbody>\n",
       "    <tr>\n",
       "      <th>0</th>\n",
       "      <td>2022-12-31 16:49:40+00:00</td>\n",
       "      <td>RawCowsMilk</td>\n",
       "      <td>Happy New Years Eve! We hope yours is as tasty...</td>\n",
       "    </tr>\n",
       "    <tr>\n",
       "      <th>1</th>\n",
       "      <td>2022-12-31 06:50:52+00:00</td>\n",
       "      <td>khargosht</td>\n",
       "      <td>خرگوشت یعنی خرگوش کا گوشت دستیاب ہے۔\\nRabbit M...</td>\n",
       "    </tr>\n",
       "    <tr>\n",
       "      <th>2</th>\n",
       "      <td>2022-12-30 18:53:22+00:00</td>\n",
       "      <td>ClayTrader25</td>\n",
       "      <td>My mom nailed this gift 💯 #selfsufficient #pra...</td>\n",
       "    </tr>\n",
       "    <tr>\n",
       "      <th>3</th>\n",
       "      <td>2022-12-24 15:29:40+00:00</td>\n",
       "      <td>ClayTrader25</td>\n",
       "      <td>From field to plate with some memories along t...</td>\n",
       "    </tr>\n",
       "    <tr>\n",
       "      <th>4</th>\n",
       "      <td>2022-12-23 15:46:00+00:00</td>\n",
       "      <td>RawCowsMilk</td>\n",
       "      <td>Merry Christmas to you all ❤️🎄🐷 #organicfarmin...</td>\n",
       "    </tr>\n",
       "    <tr>\n",
       "      <th>5</th>\n",
       "      <td>2022-12-22 08:07:09+00:00</td>\n",
       "      <td>GriersonOrganic</td>\n",
       "      <td>Our pop up shop at the farm is open 9-5pm 22nd...</td>\n",
       "    </tr>\n",
       "    <tr>\n",
       "      <th>6</th>\n",
       "      <td>2022-12-22 07:58:22+00:00</td>\n",
       "      <td>GriersonOrganic</td>\n",
       "      <td>Our pop up shop at the farm is open 9-5pm 22nd...</td>\n",
       "    </tr>\n",
       "    <tr>\n",
       "      <th>7</th>\n",
       "      <td>2022-12-21 05:00:01+00:00</td>\n",
       "      <td>GoodMeat254</td>\n",
       "      <td>Farm-fresh, Organic, A-Grade Meat... Finger Li...</td>\n",
       "    </tr>\n",
       "    <tr>\n",
       "      <th>8</th>\n",
       "      <td>2022-12-20 20:28:02+00:00</td>\n",
       "      <td>LifestyleSoln</td>\n",
       "      <td>Purchasing Organic Protein is a healthy diet h...</td>\n",
       "    </tr>\n",
       "    <tr>\n",
       "      <th>9</th>\n",
       "      <td>2022-12-20 13:36:43+00:00</td>\n",
       "      <td>WasedaFarms</td>\n",
       "      <td>We will be closed Saturday &amp;amp; Sunday for Ch...</td>\n",
       "    </tr>\n",
       "    <tr>\n",
       "      <th>10</th>\n",
       "      <td>2022-12-19 20:37:48+00:00</td>\n",
       "      <td>RawCowsMilk</td>\n",
       "      <td>Santa Paws 🐾 #bordercollie #puppiesofinstagram...</td>\n",
       "    </tr>\n",
       "    <tr>\n",
       "      <th>11</th>\n",
       "      <td>2022-12-19 17:20:18+00:00</td>\n",
       "      <td>KneppWilding</td>\n",
       "      <td>There's still time to enjoy our organic, Wild ...</td>\n",
       "    </tr>\n",
       "    <tr>\n",
       "      <th>12</th>\n",
       "      <td>2022-12-19 17:06:27+00:00</td>\n",
       "      <td>Knepp_Produce</td>\n",
       "      <td>Last chance 📣 Order by midnight tonight (Mon 1...</td>\n",
       "    </tr>\n",
       "    <tr>\n",
       "      <th>13</th>\n",
       "      <td>2022-12-14 16:01:06+00:00</td>\n",
       "      <td>organicUK</td>\n",
       "      <td>Organic meat &amp;amp; vegetable boxes for Christm...</td>\n",
       "    </tr>\n",
       "    <tr>\n",
       "      <th>14</th>\n",
       "      <td>2022-12-12 22:16:38+00:00</td>\n",
       "      <td>WasedaFarms</td>\n",
       "      <td>“Skinny” Skynyrd (brown) &amp;amp; Lynyrd love to ...</td>\n",
       "    </tr>\n",
       "    <tr>\n",
       "      <th>15</th>\n",
       "      <td>2022-12-11 18:00:48+00:00</td>\n",
       "      <td>Knepp_Produce</td>\n",
       "      <td>Our large festive meat box includes a 1kg beef...</td>\n",
       "    </tr>\n",
       "    <tr>\n",
       "      <th>16</th>\n",
       "      <td>2022-12-09 12:51:11+00:00</td>\n",
       "      <td>RawCowsMilk</td>\n",
       "      <td>Oh hey there Dottie, nice hat! #irishcob #chri...</td>\n",
       "    </tr>\n",
       "    <tr>\n",
       "      <th>17</th>\n",
       "      <td>2022-12-07 14:37:51+00:00</td>\n",
       "      <td>Sedat_Kilinc</td>\n",
       "      <td>@TheMattEagles @MKRealEstate383 Then it's tota...</td>\n",
       "    </tr>\n",
       "    <tr>\n",
       "      <th>18</th>\n",
       "      <td>2022-12-03 14:13:07+00:00</td>\n",
       "      <td>GoodMeat254</td>\n",
       "      <td>Grow Older... Wiser and Stronger!!\\nIt all sta...</td>\n",
       "    </tr>\n",
       "    <tr>\n",
       "      <th>19</th>\n",
       "      <td>2022-12-02 09:30:40+00:00</td>\n",
       "      <td>organicUK</td>\n",
       "      <td>It's time to get ready with the food shopping ...</td>\n",
       "    </tr>\n",
       "  </tbody>\n",
       "</table>\n",
       "</div>"
      ],
      "text/plain": [
       "                   Timestamp             User  \\\n",
       "0  2022-12-31 16:49:40+00:00      RawCowsMilk   \n",
       "1  2022-12-31 06:50:52+00:00        khargosht   \n",
       "2  2022-12-30 18:53:22+00:00     ClayTrader25   \n",
       "3  2022-12-24 15:29:40+00:00     ClayTrader25   \n",
       "4  2022-12-23 15:46:00+00:00      RawCowsMilk   \n",
       "5  2022-12-22 08:07:09+00:00  GriersonOrganic   \n",
       "6  2022-12-22 07:58:22+00:00  GriersonOrganic   \n",
       "7  2022-12-21 05:00:01+00:00      GoodMeat254   \n",
       "8  2022-12-20 20:28:02+00:00    LifestyleSoln   \n",
       "9  2022-12-20 13:36:43+00:00      WasedaFarms   \n",
       "10 2022-12-19 20:37:48+00:00      RawCowsMilk   \n",
       "11 2022-12-19 17:20:18+00:00     KneppWilding   \n",
       "12 2022-12-19 17:06:27+00:00    Knepp_Produce   \n",
       "13 2022-12-14 16:01:06+00:00        organicUK   \n",
       "14 2022-12-12 22:16:38+00:00      WasedaFarms   \n",
       "15 2022-12-11 18:00:48+00:00    Knepp_Produce   \n",
       "16 2022-12-09 12:51:11+00:00      RawCowsMilk   \n",
       "17 2022-12-07 14:37:51+00:00     Sedat_Kilinc   \n",
       "18 2022-12-03 14:13:07+00:00      GoodMeat254   \n",
       "19 2022-12-02 09:30:40+00:00        organicUK   \n",
       "\n",
       "                                                Tweet  \n",
       "0   Happy New Years Eve! We hope yours is as tasty...  \n",
       "1   خرگوشت یعنی خرگوش کا گوشت دستیاب ہے۔\\nRabbit M...  \n",
       "2   My mom nailed this gift 💯 #selfsufficient #pra...  \n",
       "3   From field to plate with some memories along t...  \n",
       "4   Merry Christmas to you all ❤️🎄🐷 #organicfarmin...  \n",
       "5   Our pop up shop at the farm is open 9-5pm 22nd...  \n",
       "6   Our pop up shop at the farm is open 9-5pm 22nd...  \n",
       "7   Farm-fresh, Organic, A-Grade Meat... Finger Li...  \n",
       "8   Purchasing Organic Protein is a healthy diet h...  \n",
       "9   We will be closed Saturday &amp; Sunday for Ch...  \n",
       "10  Santa Paws 🐾 #bordercollie #puppiesofinstagram...  \n",
       "11  There's still time to enjoy our organic, Wild ...  \n",
       "12  Last chance 📣 Order by midnight tonight (Mon 1...  \n",
       "13  Organic meat &amp; vegetable boxes for Christm...  \n",
       "14  “Skinny” Skynyrd (brown) &amp; Lynyrd love to ...  \n",
       "15  Our large festive meat box includes a 1kg beef...  \n",
       "16  Oh hey there Dottie, nice hat! #irishcob #chri...  \n",
       "17  @TheMattEagles @MKRealEstate383 Then it's tota...  \n",
       "18  Grow Older... Wiser and Stronger!!\\nIt all sta...  \n",
       "19  It's time to get ready with the food shopping ...  "
      ]
     },
     "execution_count": 6,
     "metadata": {},
     "output_type": "execute_result"
    }
   ],
   "source": [
    "tweets_df.head(20)"
   ]
  },
  {
   "cell_type": "code",
   "execution_count": 7,
   "id": "47d8e687",
   "metadata": {},
   "outputs": [],
   "source": [
    "meat_refs=['Organic','Meat','meat','organicmeat', 'organic','chicken','A']\n",
    "protein_refs=['protein', 'fresh','raw','gut friendly', 'healthy diet','freerange']"
   ]
  },
  {
   "cell_type": "code",
   "execution_count": 8,
   "id": "a4863fb5",
   "metadata": {},
   "outputs": [],
   "source": [
    "def identify_subject(tweet, refs):\n",
    "    flag = 0\n",
    "    for ref in refs:\n",
    "        if tweet.find(ref) !=-1:\n",
    "            flag =1\n",
    "    return flag\n",
    "\n",
    "tweets_df['meat']=tweets_df['Tweet'].apply(lambda x: identify_subject(x, meat_refs ))\n",
    "tweets_df['chicken']=tweets_df['Tweet'].apply(lambda x: identify_subject(x, protein_refs))\n"
   ]
  },
  {
   "cell_type": "code",
   "execution_count": 9,
   "id": "4fe3305c",
   "metadata": {},
   "outputs": [
    {
     "data": {
      "text/html": [
       "<div>\n",
       "<style scoped>\n",
       "    .dataframe tbody tr th:only-of-type {\n",
       "        vertical-align: middle;\n",
       "    }\n",
       "\n",
       "    .dataframe tbody tr th {\n",
       "        vertical-align: top;\n",
       "    }\n",
       "\n",
       "    .dataframe thead th {\n",
       "        text-align: right;\n",
       "    }\n",
       "</style>\n",
       "<table border=\"1\" class=\"dataframe\">\n",
       "  <thead>\n",
       "    <tr style=\"text-align: right;\">\n",
       "      <th></th>\n",
       "      <th>Timestamp</th>\n",
       "      <th>User</th>\n",
       "      <th>Tweet</th>\n",
       "      <th>meat</th>\n",
       "      <th>chicken</th>\n",
       "    </tr>\n",
       "  </thead>\n",
       "  <tbody>\n",
       "    <tr>\n",
       "      <th>0</th>\n",
       "      <td>2022-12-31 16:49:40+00:00</td>\n",
       "      <td>RawCowsMilk</td>\n",
       "      <td>Happy New Years Eve! We hope yours is as tasty...</td>\n",
       "      <td>1</td>\n",
       "      <td>1</td>\n",
       "    </tr>\n",
       "    <tr>\n",
       "      <th>1</th>\n",
       "      <td>2022-12-31 06:50:52+00:00</td>\n",
       "      <td>khargosht</td>\n",
       "      <td>خرگوشت یعنی خرگوش کا گوشت دستیاب ہے۔\\nRabbit M...</td>\n",
       "      <td>1</td>\n",
       "      <td>0</td>\n",
       "    </tr>\n",
       "    <tr>\n",
       "      <th>2</th>\n",
       "      <td>2022-12-30 18:53:22+00:00</td>\n",
       "      <td>ClayTrader25</td>\n",
       "      <td>My mom nailed this gift 💯 #selfsufficient #pra...</td>\n",
       "      <td>1</td>\n",
       "      <td>0</td>\n",
       "    </tr>\n",
       "    <tr>\n",
       "      <th>3</th>\n",
       "      <td>2022-12-24 15:29:40+00:00</td>\n",
       "      <td>ClayTrader25</td>\n",
       "      <td>From field to plate with some memories along t...</td>\n",
       "      <td>1</td>\n",
       "      <td>0</td>\n",
       "    </tr>\n",
       "    <tr>\n",
       "      <th>4</th>\n",
       "      <td>2022-12-23 15:46:00+00:00</td>\n",
       "      <td>RawCowsMilk</td>\n",
       "      <td>Merry Christmas to you all ❤️🎄🐷 #organicfarmin...</td>\n",
       "      <td>1</td>\n",
       "      <td>1</td>\n",
       "    </tr>\n",
       "  </tbody>\n",
       "</table>\n",
       "</div>"
      ],
      "text/plain": [
       "                  Timestamp          User  \\\n",
       "0 2022-12-31 16:49:40+00:00   RawCowsMilk   \n",
       "1 2022-12-31 06:50:52+00:00     khargosht   \n",
       "2 2022-12-30 18:53:22+00:00  ClayTrader25   \n",
       "3 2022-12-24 15:29:40+00:00  ClayTrader25   \n",
       "4 2022-12-23 15:46:00+00:00   RawCowsMilk   \n",
       "\n",
       "                                               Tweet  meat  chicken  \n",
       "0  Happy New Years Eve! We hope yours is as tasty...     1        1  \n",
       "1  خرگوشت یعنی خرگوش کا گوشت دستیاب ہے۔\\nRabbit M...     1        0  \n",
       "2  My mom nailed this gift 💯 #selfsufficient #pra...     1        0  \n",
       "3  From field to plate with some memories along t...     1        0  \n",
       "4  Merry Christmas to you all ❤️🎄🐷 #organicfarmin...     1        1  "
      ]
     },
     "execution_count": 9,
     "metadata": {},
     "output_type": "execute_result"
    }
   ],
   "source": [
    "tweets_df.head()"
   ]
  },
  {
   "cell_type": "code",
   "execution_count": 10,
   "id": "038ea59a",
   "metadata": {},
   "outputs": [],
   "source": [
    "def cleanUpTweet(txt):\n",
    "    txt = re.sub(r'@[A-Za-z0-9_]+', '', txt)\n",
    "    txt = re.sub(r'#', '',txt)\n",
    "    txt = re.sub(r'RT: ', '',txt)\n",
    "    txt = re.sub(r'https?:\\/\\/[A-Za-z0-9\\.\\/]+','',txt)\n",
    "    return txt"
   ]
  },
  {
   "cell_type": "code",
   "execution_count": 11,
   "id": "4f5a1b80",
   "metadata": {},
   "outputs": [],
   "source": [
    "tweets_df['Tweet'] = tweets_df['Tweet'].apply(cleanUpTweet)"
   ]
  },
  {
   "cell_type": "code",
   "execution_count": 12,
   "id": "1c6af63d",
   "metadata": {},
   "outputs": [],
   "source": [
    "def getTextSubjectivity(txt):\n",
    "    return TextBlob(txt).sentiment.subjectivity\n"
   ]
  },
  {
   "cell_type": "code",
   "execution_count": 13,
   "id": "6a9636bf",
   "metadata": {},
   "outputs": [],
   "source": [
    "def getTextPolarity(txt):\n",
    "    return TextBlob(txt).sentiment.polarity"
   ]
  },
  {
   "cell_type": "code",
   "execution_count": 14,
   "id": "3d614d5b",
   "metadata": {},
   "outputs": [],
   "source": [
    "tweets_df['Subjectivity']= tweets_df['Tweet'].apply(getTextSubjectivity)\n",
    "tweets_df['Polarity']= tweets_df['Tweet'].apply(getTextPolarity)"
   ]
  },
  {
   "cell_type": "code",
   "execution_count": 16,
   "id": "b2721ce8",
   "metadata": {},
   "outputs": [],
   "source": [
    "tweets_df.head(50)\n",
    "meat = tweets_df[tweets_df['meat'] ==1][['Timestamp','Polarity']]\n",
    "meat = meat.sort_values(by = 'Timestamp', ascending = True)\n",
    "meat['OR Polarity'] = meat.Polarity.rolling(10, min_periods=3).mean()\n",
    "\n",
    "chicken = tweets_df[tweets_df['chicken'] ==1][['Timestamp','Polarity']]\n",
    "chicken = chicken.sort_values(by = 'Timestamp', ascending = True)\n",
    "chicken['OR Polarity'] = chicken.Polarity.rolling(10, min_periods=3).mean()"
   ]
  },
  {
   "cell_type": "code",
   "execution_count": 17,
   "id": "223cc04b",
   "metadata": {},
   "outputs": [
    {
     "data": {
      "text/html": [
       "<div>\n",
       "<style scoped>\n",
       "    .dataframe tbody tr th:only-of-type {\n",
       "        vertical-align: middle;\n",
       "    }\n",
       "\n",
       "    .dataframe tbody tr th {\n",
       "        vertical-align: top;\n",
       "    }\n",
       "\n",
       "    .dataframe thead th {\n",
       "        text-align: right;\n",
       "    }\n",
       "</style>\n",
       "<table border=\"1\" class=\"dataframe\">\n",
       "  <thead>\n",
       "    <tr style=\"text-align: right;\">\n",
       "      <th></th>\n",
       "      <th>Timestamp</th>\n",
       "      <th>Polarity</th>\n",
       "      <th>OR Polarity</th>\n",
       "    </tr>\n",
       "  </thead>\n",
       "  <tbody>\n",
       "    <tr>\n",
       "      <th>956</th>\n",
       "      <td>2018-02-12 22:26:40+00:00</td>\n",
       "      <td>-0.112500</td>\n",
       "      <td>NaN</td>\n",
       "    </tr>\n",
       "    <tr>\n",
       "      <th>955</th>\n",
       "      <td>2018-02-12 22:36:06+00:00</td>\n",
       "      <td>-0.112500</td>\n",
       "      <td>NaN</td>\n",
       "    </tr>\n",
       "    <tr>\n",
       "      <th>918</th>\n",
       "      <td>2018-04-10 22:12:53+00:00</td>\n",
       "      <td>-0.217188</td>\n",
       "      <td>-0.147396</td>\n",
       "    </tr>\n",
       "    <tr>\n",
       "      <th>917</th>\n",
       "      <td>2018-04-12 12:07:12+00:00</td>\n",
       "      <td>0.334722</td>\n",
       "      <td>-0.026866</td>\n",
       "    </tr>\n",
       "    <tr>\n",
       "      <th>910</th>\n",
       "      <td>2018-04-25 03:16:03+00:00</td>\n",
       "      <td>0.562500</td>\n",
       "      <td>0.091007</td>\n",
       "    </tr>\n",
       "  </tbody>\n",
       "</table>\n",
       "</div>"
      ],
      "text/plain": [
       "                    Timestamp  Polarity  OR Polarity\n",
       "956 2018-02-12 22:26:40+00:00 -0.112500          NaN\n",
       "955 2018-02-12 22:36:06+00:00 -0.112500          NaN\n",
       "918 2018-04-10 22:12:53+00:00 -0.217188    -0.147396\n",
       "917 2018-04-12 12:07:12+00:00  0.334722    -0.026866\n",
       "910 2018-04-25 03:16:03+00:00  0.562500     0.091007"
      ]
     },
     "execution_count": 17,
     "metadata": {},
     "output_type": "execute_result"
    }
   ],
   "source": [
    "chicken.head()"
   ]
  },
  {
   "cell_type": "code",
   "execution_count": 18,
   "id": "f5901a4e",
   "metadata": {},
   "outputs": [
    {
     "data": {
      "image/png": "[encoded data removed]",
      "text/plain": [
       "<Figure size 936x720 with 2 Axes>"
      ]
     },
     "metadata": {
      "needs_background": "light"
     },
     "output_type": "display_data"
    }
   ],
   "source": [
    "fig, axes = plt.subplots(2, 1, figsize=(13,10))\n",
    "\n",
    "axes[0].plot(meat['Timestamp'], meat['OR Polarity'])\n",
    "axes[0].set_title(\"\\n\".join(['Organic meat 10 Tweet Average Polarity']))\n",
    "\n",
    "axes[1].plot(chicken['Timestamp'], chicken['OR Polarity'], color='red')\n",
    "axes[1].set_title(\"\\n\".join(['Organic chicken 10 Tweet Average Polarity']))\n",
    "\n",
    "fig.suptitle('\\n'.join(['Organic Meat']), y=0.98)\n",
    "plt.show()"
   ]
  },
  {
   "cell_type": "code",
   "execution_count": 19,
   "id": "d44f1125",
   "metadata": {},
   "outputs": [],
   "source": [
    "def getTextAnalysis(a):\n",
    "    if a<0:\n",
    "        return \"Negative\"\n",
    "    elif a==0:\n",
    "        return \"Neutral\"\n",
    "    else:\n",
    "        return \"Positive\""
   ]
  },
  {
   "cell_type": "code",
   "execution_count": 20,
   "id": "637a45f4",
   "metadata": {},
   "outputs": [],
   "source": [
    "tweets_df[\"Score\"]= tweets_df['Polarity'].apply(getTextAnalysis)"
   ]
  },
  {
   "cell_type": "code",
   "execution_count": null,
   "id": "fad7e486",
   "metadata": {},
   "outputs": [],
   "source": []
  },
  {
   "cell_type": "code",
   "execution_count": null,
   "id": "1f9e538a",
   "metadata": {},
   "outputs": [],
   "source": []
  },
  {
   "cell_type": "code",
   "execution_count": null,
   "id": "2c4dbeb9",
   "metadata": {},
   "outputs": [],
   "source": [
    "tweets_df['word_count']= tweets_df['Tweet'].apply(lambda x: len(str(x).split(\" \")))"
   ]
  },
  {
   "cell_type": "code",
   "execution_count": null,
   "id": "ec1a1dbb",
   "metadata": {},
   "outputs": [],
   "source": [
    "tweets_df[['Tweet', 'word_count']].head()"
   ]
  },
  {
   "cell_type": "code",
   "execution_count": null,
   "id": "ac4f3c0a",
   "metadata": {},
   "outputs": [],
   "source": [
    "tweets_df['char_count'] = tweets_df['Tweet'].str.len() "
   ]
  },
  {
   "cell_type": "code",
   "execution_count": null,
   "id": "30b7ff49",
   "metadata": {},
   "outputs": [],
   "source": [
    "## this also includes spaces\n",
    "tweets_df[['Tweet','char_count']].head()"
   ]
  },
  {
   "cell_type": "code",
   "execution_count": null,
   "id": "4f3aede2",
   "metadata": {},
   "outputs": [],
   "source": [
    "tweets_df.head(5)"
   ]
  },
  {
   "cell_type": "code",
   "execution_count": null,
   "id": "c17150b9",
   "metadata": {},
   "outputs": [],
   "source": [
    "def avg_word(sentence):\n",
    "  words = sentence.split()\n",
    "  return (sum(len(word) for word in words)/len(words))"
   ]
  },
  {
   "cell_type": "code",
   "execution_count": null,
   "id": "1b91960a",
   "metadata": {},
   "outputs": [],
   "source": [
    "tweets_df['avg_word'] = tweets_df['Tweet'].apply(lambda x: avg_word(x))"
   ]
  },
  {
   "cell_type": "code",
   "execution_count": null,
   "id": "c738840f",
   "metadata": {},
   "outputs": [],
   "source": [
    "tweets_df[['Tweet','avg_word']].head()"
   ]
  },
  {
   "cell_type": "code",
   "execution_count": null,
   "id": "fa2b3e7b",
   "metadata": {},
   "outputs": [],
   "source": [
    "import nltk\n",
    "nltk.download('stopwords')"
   ]
  },
  {
   "cell_type": "code",
   "execution_count": null,
   "id": "15baeefe",
   "metadata": {},
   "outputs": [],
   "source": [
    "from nltk.corpus import stopwords\n",
    "stop = stopwords.words('english')"
   ]
  },
  {
   "cell_type": "code",
   "execution_count": null,
   "id": "a32ffcef",
   "metadata": {},
   "outputs": [],
   "source": [
    "tweets_df['stopwords'] = tweets_df['Tweet'].apply(lambda x: len([x for x in x.split() if x in stop]))\n",
    "tweets_df[['Tweet','stopwords']].head()"
   ]
  },
  {
   "cell_type": "code",
   "execution_count": null,
   "id": "c036d1ac",
   "metadata": {},
   "outputs": [],
   "source": [
    "tweets_df['hastags'] = tweets_df['Tweet'].apply(lambda x: len([x for x in x.split() if x.startswith('#')]))\n",
    "tweets_df[['Tweet','hastags']].head()"
   ]
  },
  {
   "cell_type": "code",
   "execution_count": null,
   "id": "9d7db054",
   "metadata": {},
   "outputs": [],
   "source": [
    "tweets_df['numerics'] = tweets_df['Tweet'].apply(lambda x: len([x for x in x.split() if x.startswith('#')]))\n",
    "tweets_df[['Tweet','numerics']].head()"
   ]
  },
  {
   "cell_type": "code",
   "execution_count": null,
   "id": "3e9c6def",
   "metadata": {},
   "outputs": [],
   "source": [
    "tweets_df['upper'] = tweets_df['Tweet'].apply(lambda x: len([x for x in x.split() if x.startswith('#')]))\n",
    "tweets_df[['Tweet','upper']].head()"
   ]
  },
  {
   "cell_type": "code",
   "execution_count": null,
   "id": "353e0a9b",
   "metadata": {},
   "outputs": [],
   "source": [
    "tweets_df['Tweer'] = tweets_df['Tweet'].apply(lambda x: len([x for x in x.split() if x.startswith('#')]))\n",
    "tweets_df['Tweet'].head()"
   ]
  },
  {
   "cell_type": "code",
   "execution_count": null,
   "id": "17ada8b0",
   "metadata": {},
   "outputs": [],
   "source": [
    "tweets_df['Tweet'] = tweets_df['Tweet'].str.replace('[^\\w\\s]','')\n",
    "tweets_df['Tweet'].head()"
   ]
  },
  {
   "cell_type": "code",
   "execution_count": null,
   "id": "ce5ab9b1",
   "metadata": {},
   "outputs": [],
   "source": [
    "from nltk.corpus import stopwords\n",
    "stop = stopwords.words('english')\n",
    "tweets_df['Tweet'] = tweets_df['Tweet'].apply(lambda x: \" \".join(x for x in x.split() if x not in stop))\n",
    "tweets_df['Tweet'].head()"
   ]
  },
  {
   "cell_type": "code",
   "execution_count": null,
   "id": "695e7ce1",
   "metadata": {},
   "outputs": [],
   "source": [
    "freq = pd.Series(' '.join(tweets_df['Tweet']).split()).value_counts()[:10]\n",
    "freq"
   ]
  },
  {
   "cell_type": "code",
   "execution_count": null,
   "id": "792d197f",
   "metadata": {},
   "outputs": [],
   "source": [
    "freq = list(freq.index)\n",
    "tweets_df['Tweet'] = tweets_df['Tweet'].apply(lambda x: \" \".join(x for x in x.split() if x not in freq))\n",
    "tweets_df['Tweet'].head()"
   ]
  },
  {
   "cell_type": "code",
   "execution_count": null,
   "id": "c2cb3dc0",
   "metadata": {},
   "outputs": [],
   "source": [
    "freq = pd.Series(' '.join(tweets_df['Tweet']).split()).value_counts()[-10:]\n",
    "freq"
   ]
  },
  {
   "cell_type": "code",
   "execution_count": null,
   "id": "57c5ab5f",
   "metadata": {},
   "outputs": [],
   "source": [
    "freq = list(freq.index)\n",
    "tweets_df['Tweet'] = tweets_df['Tweet'].apply(lambda x: \" \".join(x for x in x.split() if x not in freq))\n",
    "tweets_df['Tweet'].head()"
   ]
  },
  {
   "cell_type": "code",
   "execution_count": null,
   "id": "201f5de8",
   "metadata": {},
   "outputs": [],
   "source": [
    "from textblob import TextBlob\n",
    "tweets_df['Tweet'][:5].apply(lambda x: str(TextBlob(x).correct()))\n"
   ]
  },
  {
   "cell_type": "code",
   "execution_count": null,
   "id": "6f3a1288",
   "metadata": {},
   "outputs": [],
   "source": [
    "nltk.download('punkt')\n",
    "TextBlob(tweets_df['Tweet'][1]).words"
   ]
  },
  {
   "cell_type": "code",
   "execution_count": null,
   "id": "6e0174b4",
   "metadata": {},
   "outputs": [],
   "source": [
    "from nltk.stem import PorterStemmer\n",
    "st = PorterStemmer()\n",
    "tweets_df['Tweet'][:5].apply(lambda x: \" \".join([st.stem(word) for word in x.split()]))"
   ]
  },
  {
   "cell_type": "code",
   "execution_count": null,
   "id": "05392e15",
   "metadata": {},
   "outputs": [],
   "source": [
    "nltk.download('wordnet')\n",
    "from textblob import Word\n",
    "tweets_df['Tweet'] = tweets_df['Tweet'].apply(lambda x: \" \".join([Word(word).lemmatize() for word in x.split()]))\n",
    "tweets_df['Tweet'].head()"
   ]
  },
  {
   "cell_type": "code",
   "execution_count": null,
   "id": "66c06674",
   "metadata": {},
   "outputs": [],
   "source": [
    "TextBlob(tweets_df['Tweet'][0]).ngrams(2)"
   ]
  },
  {
   "cell_type": "code",
   "execution_count": null,
   "id": "2d099a7d",
   "metadata": {},
   "outputs": [],
   "source": [
    "tf1 = (tweets_df['Tweet'][1:2]).apply(lambda x: pd.value_counts(x.split(\" \"))).sum(axis = 0).reset_index()\n",
    "tf1.columns = ['words','tf']\n",
    "tf1"
   ]
  },
  {
   "cell_type": "code",
   "execution_count": null,
   "id": "b4904f92",
   "metadata": {},
   "outputs": [],
   "source": [
    "import numpy as np\n",
    "\n",
    "for i,word in enumerate(tf1['words']):\n",
    "  tf1.loc[i, 'idf'] = np.log(tweets_df.shape[0]/(len(tweets_df[tweets_df['Tweet'].str.contains(word)])))\n",
    "\n",
    "tf1"
   ]
  },
  {
   "cell_type": "code",
   "execution_count": null,
   "id": "fd7cf4f2",
   "metadata": {},
   "outputs": [],
   "source": [
    "tf1['tfidf'] = tf1['tf'] * tf1['idf']\n",
    "tf1"
   ]
  },
  {
   "cell_type": "code",
   "execution_count": null,
   "id": "c63f3eb1",
   "metadata": {},
   "outputs": [],
   "source": [
    "from sklearn.feature_extraction.text import TfidfVectorizer\n",
    "tfidf = TfidfVectorizer(max_features=1000, lowercase=True, analyzer='word',\n",
    " stop_words= 'english',ngram_range=(1,1))\n",
    "tweets_vect = tfidf.fit_transform(tweets_df['Tweet'])\n",
    "\n",
    "tweets_vect"
   ]
  },
  {
   "cell_type": "code",
   "execution_count": null,
   "id": "1818c4f9",
   "metadata": {},
   "outputs": [],
   "source": [
    "print(tweets_vect)"
   ]
  },
  {
   "cell_type": "code",
   "execution_count": null,
   "id": "1be2cdde",
   "metadata": {},
   "outputs": [],
   "source": [
    "from sklearn.feature_extraction.text import CountVectorizer\n",
    "bow = CountVectorizer(max_features=1000, lowercase=True, ngram_range=(1,1),analyzer = \"word\")\n",
    "tweets_bow = bow.fit_transform(tweets_df['Tweet'])\n",
    "tweets_bow"
   ]
  },
  {
   "cell_type": "code",
   "execution_count": null,
   "id": "dd0cb879",
   "metadata": {},
   "outputs": [],
   "source": [
    "print(tweets_bow)"
   ]
  },
  {
   "cell_type": "code",
   "execution_count": null,
   "id": "67459b40",
   "metadata": {},
   "outputs": [],
   "source": [
    "tweets_df['Tweet'][:5].apply(lambda x: TextBlob(x).sentiment)"
   ]
  },
  {
   "cell_type": "code",
   "execution_count": null,
   "id": "73c66bdc",
   "metadata": {},
   "outputs": [],
   "source": [
    "tweets_df['sentiment'] = tweets_df['Tweet'].apply(lambda x: TextBlob(x).sentiment[0] )\n",
    "tweets_df[['Tweet','sentiment']].head()"
   ]
  },
  {
   "cell_type": "code",
   "execution_count": null,
   "id": "c10f36c4",
   "metadata": {},
   "outputs": [],
   "source": [
    "tweets_df.head(5)"
   ]
  }
 ],
 "metadata": {
  "kernelspec": {
   "display_name": "Python 3 (ipykernel)",
   "language": "python",
   "name": "python3"
  },
  "language_info": {
   "codemirror_mode": {
    "name": "ipython",
    "version": 3
   },
   "file_extension": ".py",
   "mimetype": "text/x-python",
   "name": "python",
   "nbconvert_exporter": "python",
   "pygments_lexer": "ipython3",
   "version": "3.9.12"
  }
 },
 "nbformat": 4,
 "nbformat_minor": 5
}
